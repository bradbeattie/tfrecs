{
 "cells": [
  {
   "cell_type": "markdown",
   "metadata": {},
   "source": [
    "## Sparse and variable length features to fixed-size embeddings"
   ]
  },
  {
   "cell_type": "code",
   "execution_count": 1,
   "metadata": {},
   "outputs": [
    {
     "name": "stdout",
     "output_type": "stream",
     "text": [
      "1.1.0\n"
     ]
    }
   ],
   "source": [
    "import tensorflow as tf\n",
    "import numpy as np\n",
    "import pandas as pd\n",
    "\n",
    "print(tf.__version__)\n",
    "sess = tf.InteractiveSession()"
   ]
  },
  {
   "cell_type": "code",
   "execution_count": 2,
   "metadata": {},
   "outputs": [
    {
     "data": {
      "text/html": [
       "<div>\n",
       "<table border=\"1\" class=\"dataframe\">\n",
       "  <thead>\n",
       "    <tr style=\"text-align: right;\">\n",
       "      <th></th>\n",
       "      <th>user</th>\n",
       "      <th>item</th>\n",
       "    </tr>\n",
       "  </thead>\n",
       "  <tbody>\n",
       "    <tr>\n",
       "      <th>0</th>\n",
       "      <td>0</td>\n",
       "      <td>1</td>\n",
       "    </tr>\n",
       "    <tr>\n",
       "      <th>1</th>\n",
       "      <td>0</td>\n",
       "      <td>10</td>\n",
       "    </tr>\n",
       "    <tr>\n",
       "      <th>2</th>\n",
       "      <td>1</td>\n",
       "      <td>3</td>\n",
       "    </tr>\n",
       "  </tbody>\n",
       "</table>\n",
       "</div>"
      ],
      "text/plain": [
       "   user  item\n",
       "0     0     1\n",
       "1     0    10\n",
       "2     1     3"
      ]
     },
     "execution_count": 2,
     "metadata": {},
     "output_type": "execute_result"
    }
   ],
   "source": [
    "user_history = pd.DataFrame(\n",
    "    data=[[0, 1], [0, 10], [1, 3]],\n",
    "    columns=['user', 'item'])\n",
    "\n",
    "user_history"
   ]
  },
  {
   "cell_type": "code",
   "execution_count": 3,
   "metadata": {},
   "outputs": [
    {
     "data": {
      "text/plain": [
       "<2x11 sparse matrix of type '<class 'numpy.int64'>'\n",
       "\twith 3 stored elements in COOrdinate format>"
      ]
     },
     "execution_count": 3,
     "metadata": {},
     "output_type": "execute_result"
    }
   ],
   "source": [
    "from scipy import sparse\n",
    "\n",
    "sparse_history = sparse.coo_matrix((np.ones_like(user_history.user), (user_history.user, user_history.item)))\n",
    "sparse_history"
   ]
  },
  {
   "cell_type": "code",
   "execution_count": 4,
   "metadata": {},
   "outputs": [
    {
     "data": {
      "text/plain": [
       "array([[0, 1, 0, 0, 0, 0, 0, 0, 0, 0, 1],\n",
       "       [0, 0, 0, 1, 0, 0, 0, 0, 0, 0, 0]])"
      ]
     },
     "execution_count": 4,
     "metadata": {},
     "output_type": "execute_result"
    }
   ],
   "source": [
    "sparse_history.toarray()"
   ]
  },
  {
   "cell_type": "markdown",
   "metadata": {},
   "source": [
    "## How to look-up embeddings for our particular users?"
   ]
  },
  {
   "cell_type": "code",
   "execution_count": 5,
   "metadata": {},
   "outputs": [
    {
     "data": {
      "text/plain": [
       "array([[ 0.02118576,  0.00100403, -0.01279619, -0.0022322 ],\n",
       "       [-0.00010485,  0.00948657,  0.00267715,  0.00854996],\n",
       "       [-0.00351496, -0.00669028,  0.00896358,  0.00918774]], dtype=float32)"
      ]
     },
     "execution_count": 5,
     "metadata": {},
     "output_type": "execute_result"
    }
   ],
   "source": [
    "N_USER = 3\n",
    "K = 4\n",
    "user_embeddings = tf.Variable(tf.random_normal([N_USER, K], stddev=0.01, mean=0))                              \n",
    "sess.run(user_embeddings.initializer)\n",
    "\n",
    "user_embeddings.eval()"
   ]
  },
  {
   "cell_type": "code",
   "execution_count": 6,
   "metadata": {},
   "outputs": [
    {
     "data": {
      "text/plain": [
       "array([[ 0.02118576,  0.00100403, -0.01279619, -0.0022322 ],\n",
       "       [-0.00351496, -0.00669028,  0.00896358,  0.00918774]], dtype=float32)"
      ]
     },
     "execution_count": 6,
     "metadata": {},
     "output_type": "execute_result"
    }
   ],
   "source": [
    "# no problem if fixed size inputs\n",
    "batch_user_ids = [0, 2]\n",
    "tf.nn.embedding_lookup(user_embeddings, batch_user_ids).eval()"
   ]
  },
  {
   "cell_type": "markdown",
   "metadata": {},
   "source": [
    "## Feeding `tf.SparseTensorValue` to `tf.nn.embedding_lookup_sparse`"
   ]
  },
  {
   "cell_type": "code",
   "execution_count": 7,
   "metadata": {},
   "outputs": [
    {
     "data": {
      "text/plain": [
       "array([0, 1, 0, 1, 2, 0])"
      ]
     },
     "execution_count": 7,
     "metadata": {},
     "output_type": "execute_result"
    }
   ],
   "source": [
    "row_indexes = np.array([0, 0, 1, 1, 1, 2])\n",
    "\n",
    "def intra_row_index(row_indexes):\n",
    "    count_by_row = np.bincount(row_indexes)\n",
    "    shift_by_row = np.concatenate([[0], np.cumsum(count_by_row)])\n",
    "    return np.arange(len(row_indexes)) - shift_by_row[row_indexes]\n",
    "\n",
    "intra_row_index(row_indexes)"
   ]
  },
  {
   "cell_type": "code",
   "execution_count": 8,
   "metadata": {},
   "outputs": [
    {
     "data": {
      "text/plain": [
       "SparseTensorValue(indices=array([[0, 0],\n",
       "       [0, 1],\n",
       "       [1, 0]]), values=array([ 1, 10,  3], dtype=int32), dense_shape=(2, 11))"
      ]
     },
     "execution_count": 8,
     "metadata": {},
     "output_type": "execute_result"
    }
   ],
   "source": [
    "def sparse_features_to_tensor(batch_features):\n",
    "    \"\"\" from https://github.com/tensorflow/tensorflow/issues/342#issuecomment-160354041\n",
    "    not very sparse, but rather a kind of jagged array where every batch sample can have 1, N_FEATURES features\n",
    "    \"\"\"\n",
    "    batch_features_as_coo = batch_features.tocoo()\n",
    "    batch_features_sparse_tensor = tf.SparseTensorValue(\n",
    "        indices=np.vstack([\n",
    "            batch_features_as_coo.row, \n",
    "            intra_row_index(batch_features_as_coo.row)]).T,\n",
    "        values=batch_features_as_coo.col,\n",
    "        dense_shape=batch_features_as_coo.shape\n",
    "    )\n",
    "    return batch_features_sparse_tensor\n",
    "\n",
    "sparse_features_to_tensor(sparse_history)"
   ]
  },
  {
   "cell_type": "code",
   "execution_count": 9,
   "metadata": {},
   "outputs": [
    {
     "data": {
      "text/plain": [
       "array([[  0.,   1.,   2.,   3.,   4.],\n",
       "       [  5.,   6.,   7.,   8.,   9.],\n",
       "       [ 10.,  11.,  12.,  13.,  14.],\n",
       "       [ 15.,  16.,  17.,  18.,  19.],\n",
       "       [ 20.,  21.,  22.,  23.,  24.],\n",
       "       [ 25.,  26.,  27.,  28.,  29.],\n",
       "       [ 30.,  31.,  32.,  33.,  34.],\n",
       "       [ 35.,  36.,  37.,  38.,  39.],\n",
       "       [ 40.,  41.,  42.,  43.,  44.],\n",
       "       [ 45.,  46.,  47.,  48.,  49.],\n",
       "       [ 50.,  51.,  52.,  53.,  54.]])"
      ]
     },
     "execution_count": 9,
     "metadata": {},
     "output_type": "execute_result"
    }
   ],
   "source": [
    "N_ITEMS = user_history.item.max() + 1\n",
    "K = 5\n",
    "item_embeddings = tf.constant(np.arange(N_ITEMS * K, dtype=float).reshape((N_ITEMS, K)))\n",
    "\n",
    "item_embeddings.eval()"
   ]
  },
  {
   "cell_type": "code",
   "execution_count": 10,
   "metadata": {
    "collapsed": true
   },
   "outputs": [],
   "source": [
    "user_history_embeddings = tf.nn.embedding_lookup_sparse(\n",
    "    item_embeddings,\n",
    "    sp_ids=tf.SparseTensor(*sparse_features_to_tensor(sparse_history)), \n",
    "    sp_weights=None, \n",
    "    combiner='sum').eval()"
   ]
  },
  {
   "cell_type": "code",
   "execution_count": 11,
   "metadata": {},
   "outputs": [
    {
     "data": {
      "text/plain": [
       "array([[ 55.,  57.,  59.,  61.,  63.],\n",
       "       [ 15.,  16.,  17.,  18.,  19.]])"
      ]
     },
     "execution_count": 11,
     "metadata": {},
     "output_type": "execute_result"
    }
   ],
   "source": [
    "# to enable lazy feeding with batches\n",
    "sparse_history_holder = tf.sparse_placeholder(tf.int32, name='user_history')\n",
    "\n",
    "def to_feed_dict(sparse_history):\n",
    "    return {sparse_history_holder: sparse_features_to_tensor(sparse_history)}\n",
    "\n",
    "user_history_embeddings = tf.nn.embedding_lookup_sparse(\n",
    "    item_embeddings,\n",
    "    sp_ids=sparse_history_holder, \n",
    "    sp_weights=None, \n",
    "    combiner='sum')\n",
    "\n",
    "\n",
    "user_history_embeddings.eval(feed_dict=to_feed_dict(sparse_history))"
   ]
  },
  {
   "cell_type": "markdown",
   "metadata": {},
   "source": [
    "## Using `pandas` raw string together with `tf.contrib.layers` columns "
   ]
  },
  {
   "cell_type": "code",
   "execution_count": 12,
   "metadata": {},
   "outputs": [
    {
     "data": {
      "text/html": [
       "<div>\n",
       "<table border=\"1\" class=\"dataframe\">\n",
       "  <thead>\n",
       "    <tr style=\"text-align: right;\">\n",
       "      <th></th>\n",
       "      <th>genres</th>\n",
       "    </tr>\n",
       "    <tr>\n",
       "      <th>item</th>\n",
       "      <th></th>\n",
       "    </tr>\n",
       "  </thead>\n",
       "  <tbody>\n",
       "    <tr>\n",
       "      <th>1</th>\n",
       "      <td>[rock, pop]</td>\n",
       "    </tr>\n",
       "    <tr>\n",
       "      <th>2</th>\n",
       "      <td>[classical]</td>\n",
       "    </tr>\n",
       "  </tbody>\n",
       "</table>\n",
       "</div>"
      ],
      "text/plain": [
       "           genres\n",
       "item             \n",
       "1     [rock, pop]\n",
       "2     [classical]"
      ]
     },
     "execution_count": 12,
     "metadata": {},
     "output_type": "execute_result"
    }
   ],
   "source": [
    "exploded_item_features = pd.DataFrame.from_dict({'item': [1, 1, 2], 'genre': ['rock', 'pop', 'classical']})\\\n",
    "    .set_index('item')\n",
    "\n",
    "item_features = exploded_item_features.reset_index()\\\n",
    "    .groupby('item').genre.apply(np.array).to_frame('genres')\n",
    "    \n",
    "item_features"
   ]
  },
  {
   "cell_type": "code",
   "execution_count": 13,
   "metadata": {},
   "outputs": [
    {
     "data": {
      "text/html": [
       "<div>\n",
       "<table border=\"1\" class=\"dataframe\">\n",
       "  <thead>\n",
       "    <tr style=\"text-align: right;\">\n",
       "      <th></th>\n",
       "      <th>genre</th>\n",
       "    </tr>\n",
       "    <tr>\n",
       "      <th>item</th>\n",
       "      <th></th>\n",
       "    </tr>\n",
       "  </thead>\n",
       "  <tbody>\n",
       "    <tr>\n",
       "      <th>1</th>\n",
       "      <td>rock</td>\n",
       "    </tr>\n",
       "    <tr>\n",
       "      <th>1</th>\n",
       "      <td>pop</td>\n",
       "    </tr>\n",
       "    <tr>\n",
       "      <th>2</th>\n",
       "      <td>classical</td>\n",
       "    </tr>\n",
       "  </tbody>\n",
       "</table>\n",
       "</div>"
      ],
      "text/plain": [
       "          genre\n",
       "item           \n",
       "1          rock\n",
       "1           pop\n",
       "2     classical"
      ]
     },
     "execution_count": 13,
     "metadata": {},
     "output_type": "execute_result"
    }
   ],
   "source": [
    "exploded_item_features"
   ]
  },
  {
   "cell_type": "code",
   "execution_count": 14,
   "metadata": {},
   "outputs": [
    {
     "data": {
      "text/html": [
       "<div>\n",
       "<table border=\"1\" class=\"dataframe\">\n",
       "  <thead>\n",
       "    <tr style=\"text-align: right;\">\n",
       "      <th></th>\n",
       "      <th>age</th>\n",
       "    </tr>\n",
       "    <tr>\n",
       "      <th>user</th>\n",
       "      <th></th>\n",
       "    </tr>\n",
       "  </thead>\n",
       "  <tbody>\n",
       "    <tr>\n",
       "      <th>3</th>\n",
       "      <td>young</td>\n",
       "    </tr>\n",
       "    <tr>\n",
       "      <th>4</th>\n",
       "      <td>old</td>\n",
       "    </tr>\n",
       "  </tbody>\n",
       "</table>\n",
       "</div>"
      ],
      "text/plain": [
       "        age\n",
       "user       \n",
       "3     young\n",
       "4       old"
      ]
     },
     "execution_count": 14,
     "metadata": {},
     "output_type": "execute_result"
    }
   ],
   "source": [
    "user_features = pd.DataFrame.from_dict({'user': [3, 4], 'age': ['young', 'old']}).set_index('user')\n",
    "user_features"
   ]
  },
  {
   "cell_type": "code",
   "execution_count": 15,
   "metadata": {},
   "outputs": [
    {
     "data": {
      "text/html": [
       "<div>\n",
       "<table border=\"1\" class=\"dataframe\">\n",
       "  <thead>\n",
       "    <tr style=\"text-align: right;\">\n",
       "      <th></th>\n",
       "      <th>user</th>\n",
       "      <th>item</th>\n",
       "      <th>is_clicked</th>\n",
       "      <th>sample_index</th>\n",
       "    </tr>\n",
       "    <tr>\n",
       "      <th>sample_index</th>\n",
       "      <th></th>\n",
       "      <th></th>\n",
       "      <th></th>\n",
       "      <th></th>\n",
       "    </tr>\n",
       "  </thead>\n",
       "  <tbody>\n",
       "    <tr>\n",
       "      <th>0</th>\n",
       "      <td>3</td>\n",
       "      <td>1</td>\n",
       "      <td>True</td>\n",
       "      <td>0</td>\n",
       "    </tr>\n",
       "    <tr>\n",
       "      <th>1</th>\n",
       "      <td>4</td>\n",
       "      <td>2</td>\n",
       "      <td>False</td>\n",
       "      <td>1</td>\n",
       "    </tr>\n",
       "  </tbody>\n",
       "</table>\n",
       "</div>"
      ],
      "text/plain": [
       "              user  item is_clicked  sample_index\n",
       "sample_index                                     \n",
       "0                3     1       True             0\n",
       "1                4     2      False             1"
      ]
     },
     "execution_count": 15,
     "metadata": {},
     "output_type": "execute_result"
    }
   ],
   "source": [
    "batch_events = pd.DataFrame(\n",
    "    [[3, 1, True, 0],\n",
    "     [4, 2, False, 1]],\n",
    "    columns=['user', 'item', 'is_clicked', 'sample_index'])\\\n",
    "    .set_index('sample_index', drop=False)\n",
    "\n",
    "batch_events"
   ]
  },
  {
   "cell_type": "code",
   "execution_count": 16,
   "metadata": {},
   "outputs": [
    {
     "data": {
      "text/html": [
       "<div>\n",
       "<table border=\"1\" class=\"dataframe\">\n",
       "  <thead>\n",
       "    <tr style=\"text-align: right;\">\n",
       "      <th></th>\n",
       "      <th>sample_index</th>\n",
       "      <th>intra_sample_index</th>\n",
       "      <th>genre</th>\n",
       "    </tr>\n",
       "    <tr>\n",
       "      <th>item</th>\n",
       "      <th></th>\n",
       "      <th></th>\n",
       "      <th></th>\n",
       "    </tr>\n",
       "  </thead>\n",
       "  <tbody>\n",
       "    <tr>\n",
       "      <th>1</th>\n",
       "      <td>0</td>\n",
       "      <td>0</td>\n",
       "      <td>rock</td>\n",
       "    </tr>\n",
       "    <tr>\n",
       "      <th>1</th>\n",
       "      <td>0</td>\n",
       "      <td>1</td>\n",
       "      <td>pop</td>\n",
       "    </tr>\n",
       "    <tr>\n",
       "      <th>2</th>\n",
       "      <td>1</td>\n",
       "      <td>0</td>\n",
       "      <td>classical</td>\n",
       "    </tr>\n",
       "  </tbody>\n",
       "</table>\n",
       "</div>"
      ],
      "text/plain": [
       "      sample_index  intra_sample_index      genre\n",
       "item                                             \n",
       "1                0                   0       rock\n",
       "1                0                   1        pop\n",
       "2                1                   0  classical"
      ]
     },
     "execution_count": 16,
     "metadata": {},
     "output_type": "execute_result"
    }
   ],
   "source": [
    "batch_item_featurised_events = batch_events.set_index('item')\\\n",
    "    .join(exploded_item_features)\\\n",
    "    .sort_index()\\\n",
    "    .assign(intra_sample_index=lambda df: intra_row_index(df.index))\n",
    "\n",
    "batch_item_featurised_events[['sample_index', 'intra_sample_index', 'genre']]"
   ]
  },
  {
   "cell_type": "code",
   "execution_count": 27,
   "metadata": {},
   "outputs": [
    {
     "data": {
      "text/plain": [
       "SparseTensorValue(indices=array([[0, 0],\n",
       "       [0, 1],\n",
       "       [1, 0]]), values=array([b'rock', b'pop', b'classical'], dtype=object), dense_shape=array([2, 2]))"
      ]
     },
     "execution_count": 27,
     "metadata": {},
     "output_type": "execute_result"
    }
   ],
   "source": [
    "def to_sparse_tensor(featurised_samples, column):\n",
    "    sample_sparse_features = tf.SparseTensor(\n",
    "        indices=featurised_samples[['sample_index', 'intra_sample_index']].values,\n",
    "        values=featurised_samples[column].values,\n",
    "        dense_shape=(\n",
    "            featurised_samples.sample_index.max() + 1, \n",
    "            featurised_samples.intra_sample_index.max() + 1)\n",
    "    )\n",
    "    return sample_sparse_features\n",
    "\n",
    "to_sparse_tensor(batch_item_featurised_events, column='genre').eval()"
   ]
  },
  {
   "cell_type": "code",
   "execution_count": 18,
   "metadata": {},
   "outputs": [
    {
     "name": "stdout",
     "output_type": "stream",
     "text": [
      "batch one-hot tensor:\n",
      "[[ 1.  1.  0.]\n",
      " [ 0.  0.  1.]]\n",
      "genres embeddings:\n",
      "[[0 1]\n",
      " [2 3]\n",
      " [4 5]]\n",
      "batch embeddings:\n",
      "[[ 1.  2.]\n",
      " [ 4.  5.]]\n"
     ]
    }
   ],
   "source": [
    "from tensorflow.contrib import layers\n",
    "\n",
    "genres_feature = layers.sparse_column_with_keys(column_name='genres', keys=(b'pop', b'rock', b'classical'))\n",
    "\n",
    "embedding_dim = 2\n",
    "embedding_matrix = np.arange(genres_feature.length * embedding_dim).reshape((genres_feature.length, -1))\n",
    "genres_embedding_column = layers.embedding_column(\n",
    "    genres_feature, \n",
    "    dimension=embedding_dim, \n",
    "    initializer=tf.constant_initializer(embedding_matrix)\n",
    ")\n",
    "\n",
    "genres_one_hot_column = layers.one_hot_column(genres_feature)\n",
    "\n",
    "genres_embeddings = layers.input_from_feature_columns({'genres': sparse_genres}, feature_columns=[genres_embedding_column])\n",
    "genres_on_hot = layers.input_from_feature_columns({'genres': sparse_genres}, feature_columns=[genres_one_hot_column])\n",
    "\n",
    "sess.run(tf.global_variables_initializer())\n",
    "sess.run(tf.tables_initializer())\n",
    "\n",
    "print('batch one-hot tensor:')\n",
    "print(genres_on_hot.eval())\n",
    "print('genres embeddings:')\n",
    "print(embedding_matrix)\n",
    "print('batch embeddings:')\n",
    "print(genres_embeddings.eval())"
   ]
  },
  {
   "cell_type": "markdown",
   "metadata": {},
   "source": [
    "## Cross interactions column"
   ]
  },
  {
   "cell_type": "code",
   "execution_count": 28,
   "metadata": {},
   "outputs": [
    {
     "data": {
      "text/html": [
       "<div>\n",
       "<table border=\"1\" class=\"dataframe\">\n",
       "  <thead>\n",
       "    <tr style=\"text-align: right;\">\n",
       "      <th></th>\n",
       "      <th>age</th>\n",
       "      <th>sample_index</th>\n",
       "      <th>intra_sample_index</th>\n",
       "    </tr>\n",
       "    <tr>\n",
       "      <th>user</th>\n",
       "      <th></th>\n",
       "      <th></th>\n",
       "      <th></th>\n",
       "    </tr>\n",
       "  </thead>\n",
       "  <tbody>\n",
       "    <tr>\n",
       "      <th>3</th>\n",
       "      <td>young</td>\n",
       "      <td>0</td>\n",
       "      <td>0</td>\n",
       "    </tr>\n",
       "    <tr>\n",
       "      <th>4</th>\n",
       "      <td>old</td>\n",
       "      <td>1</td>\n",
       "      <td>0</td>\n",
       "    </tr>\n",
       "  </tbody>\n",
       "</table>\n",
       "</div>"
      ],
      "text/plain": [
       "        age  sample_index  intra_sample_index\n",
       "user                                         \n",
       "3     young             0                   0\n",
       "4       old             1                   0"
      ]
     },
     "execution_count": 28,
     "metadata": {},
     "output_type": "execute_result"
    }
   ],
   "source": [
    "batch_user_featurised_events = batch_events.set_index('user')\\\n",
    "    .join(user_features)\\\n",
    "    .sort_index()\\\n",
    "    .assign(intra_sample_index=lambda df: intra_row_index(df.index))\n",
    "\n",
    "sparse_age = to_sparse_tensor(batch_user_featurised_events, column='age')\n",
    "batch_user_featurised_events[['age', 'sample_index', 'intra_sample_index']]"
   ]
  },
  {
   "cell_type": "code",
   "execution_count": 24,
   "metadata": {},
   "outputs": [
    {
     "data": {
      "text/plain": [
       "_CrossedColumn(columns=(_SparseColumnKeys(column_name='age', is_integerized=False, bucket_size=None, lookup_config=_SparseIdLookupConfig(vocabulary_file=None, keys=('young', 'old'), num_oov_buckets=0, vocab_size=2, default_value=-1), combiner='sum', dtype=tf.string), _SparseColumnKeys(column_name='genres', is_integerized=False, bucket_size=None, lookup_config=_SparseIdLookupConfig(vocabulary_file=None, keys=(b'pop', b'rock', b'classical'), num_oov_buckets=0, vocab_size=3, default_value=-1), combiner='sum', dtype=tf.string)), hash_bucket_size=10000, hash_key=0, combiner='sum', ckpt_to_load_from=None, tensor_name_in_ckpt=None)"
      ]
     },
     "execution_count": 24,
     "metadata": {},
     "output_type": "execute_result"
    }
   ],
   "source": [
    "age_feature = layers.sparse_column_with_keys(column_name='age', keys=('young', 'old'))\n",
    "\n",
    "age_x_genres_feature = layers.crossed_column([age_feature, genres_feature], hash_key=0, hash_bucket_size=int(1e4))\n",
    "age_x_genres_feature"
   ]
  },
  {
   "cell_type": "code",
   "execution_count": 30,
   "metadata": {},
   "outputs": [
    {
     "name": "stdout",
     "output_type": "stream",
     "text": [
      "INFO:tensorflow:Created variable linear/bias_weight:0, with device=\n"
     ]
    }
   ],
   "source": [
    "logits, var_by_cols, bias = layers.weighted_sum_from_feature_columns(\n",
    "    {'genres': sparse_genres, 'age': sparse_age},\n",
    "    feature_columns=[age_feature, genres_feature, age_x_genres_feature],\n",
    "    num_outputs=1,\n",
    "    scope='linear'\n",
    ")"
   ]
  },
  {
   "cell_type": "code",
   "execution_count": 32,
   "metadata": {},
   "outputs": [
    {
     "data": {
      "text/plain": [
       "array([[ 0.],\n",
       "       [ 0.]], dtype=float32)"
      ]
     },
     "execution_count": 32,
     "metadata": {},
     "output_type": "execute_result"
    }
   ],
   "source": [
    "sess.run(tf.global_variables_initializer())\n",
    "\n",
    "logits.eval()"
   ]
  }
 ],
 "metadata": {
  "anaconda-cloud": {},
  "kernelspec": {
   "display_name": "Python 3",
   "language": "python",
   "name": "python3"
  },
  "language_info": {
   "codemirror_mode": {
    "name": "ipython",
    "version": 3
   },
   "file_extension": ".py",
   "mimetype": "text/x-python",
   "name": "python",
   "nbconvert_exporter": "python",
   "pygments_lexer": "ipython3",
   "version": "3.6.0"
  }
 },
 "nbformat": 4,
 "nbformat_minor": 1
}
