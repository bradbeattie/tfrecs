{
 "cells": [
  {
   "cell_type": "code",
   "execution_count": 1,
   "metadata": {
    "collapsed": false
   },
   "outputs": [
    {
     "name": "stderr",
     "output_type": "stream",
     "text": [
      "/Users/gui/.virtualenvs/tfrecs/lib/python3.6/site-packages/lightfm/_lightfm_fast.py:9: UserWarning: LightFM was compiled without OpenMP support. Only a single thread will be used.\n",
      "  warnings.warn('LightFM was compiled without OpenMP support. '\n"
     ]
    }
   ],
   "source": [
    "import lightfm\n",
    "import numpy as np\n",
    "import pandas as pd\n",
    "from matplotlib import pyplot as plt\n",
    "%matplotlib inline"
   ]
  },
  {
   "cell_type": "code",
   "execution_count": 2,
   "metadata": {
    "collapsed": false
   },
   "outputs": [
    {
     "name": "stdout",
     "output_type": "stream",
     "text": [
      "[ 1.  2.  3.  4.  5.  6.  8.]\n",
      "<3221x72360 sparse matrix of type '<class 'numpy.float32'>'\n",
      "\twith 57830 stored elements in COOrdinate format>\n",
      "[ 1.  2.]\n",
      "<3221x72360 sparse matrix of type '<class 'numpy.float32'>'\n",
      "\twith 4307 stored elements in COOrdinate format>\n",
      "[ 1.  2.]\n",
      "<3221x72360 sparse matrix of type '<class 'numpy.float32'>'\n",
      "\twith 4307 stored elements in COOrdinate format>\n",
      "There are 1246 distinct item features, with values like ['bayesian', 'prior', 'elicitation'].\n"
     ]
    }
   ],
   "source": [
    "from lightfm.datasets import fetch_stackexchange\n",
    "\n",
    "data = fetch_stackexchange('crossvalidated',\n",
    "                           test_set_fraction=0.1,\n",
    "                           indicator_features=False,\n",
    "                           tag_features=True)\n",
    "\n",
    "data['test_positive_only'] = data['test'].copy()\n",
    "train = data['train']\n",
    "test = data['test']\n",
    "test_positives = data['test_positive_only']\n",
    "\n",
    "print(np.unique(data['train'].data))\n",
    "print(data['train'].__repr__())\n",
    "print(np.unique(data['test'].data))\n",
    "print(data['test'].__repr__())\n",
    "print(np.unique(data['test_positive_only'].data))\n",
    "print(data['test_positive_only'].__repr__())\n",
    "\n",
    "item_features = data['item_features']\n",
    "tag_labels = data['item_feature_labels']\n",
    "print('There are %s distinct item features, with values like %s.' % (item_features.shape[1], tag_labels[:3].tolist()))"
   ]
  },
  {
   "cell_type": "code",
   "execution_count": 28,
   "metadata": {
    "collapsed": false
   },
   "outputs": [
    {
     "name": "stdout",
     "output_type": "stream",
     "text": [
      "original train\n",
      "[1 2 3 4 5]\n",
      "<943x1682 sparse matrix of type '<class 'numpy.int32'>'\n",
      "\twith 90570 stored elements in COOrdinate format>\n",
      "original test\n",
      "[1 2 3 4 5]\n",
      "<943x1682 sparse matrix of type '<class 'numpy.int32'>'\n",
      "\twith 9430 stored elements in COOrdinate format>\n",
      "train\n",
      "[-1  1]\n",
      "<943x1682 sparse matrix of type '<class 'numpy.int64'>'\n",
      "\twith 90570 stored elements in COOrdinate format>\n",
      "test\n",
      "[-1  1]\n",
      "<943x1682 sparse matrix of type '<class 'numpy.int64'>'\n",
      "\twith 9430 stored elements in COOrdinate format>\n",
      "test_positive_only\n",
      "[1]\n",
      "<943x1682 sparse matrix of type '<class 'numpy.int64'>'\n",
      "\twith 5469 stored elements in COOrdinate format>\n",
      "There are 19 distinct item features, with values like ['genre:unknown', 'genre:Action', 'genre:Adventure'].\n"
     ]
    }
   ],
   "source": [
    "from lightfm.datasets import fetch_movielens\n",
    "\n",
    "data = fetch_movielens('movielens', indicator_features=False, genre_features=True)\n",
    "\n",
    "print('original train')\n",
    "print(np.unique(data['train'].data))\n",
    "print(data['train'].__repr__())\n",
    "print('original test')\n",
    "print(np.unique(data['test'].data))\n",
    "print(data['test'].__repr__())\n",
    "\n",
    "# binarizing traing examples as in the original lightfm paper to use the logistic loss\n",
    "data['train'].data = np.array([-1, 1])[1 * (data['train'].data >= 4)]\n",
    "data['test'].data = np.array([-1, 1])[1 * (data['test'].data >= 4)]\n",
    "\n",
    "# should keep only positive test interactions\n",
    "data['test_positive_only'] = data['test'].copy()\n",
    "data['test_positive_only'].data = 1 *(data['test_positive_only'].data>=1)\n",
    "data['test_positive_only'].eliminate_zeros()\n",
    "\n",
    "train = data['train']\n",
    "test = data['test']\n",
    "test_positives = data['test_positive_only']\n",
    "\n",
    "print('train')\n",
    "print(np.unique(data['train'].data))\n",
    "print(data['train'].__repr__())\n",
    "print('test')\n",
    "print(np.unique(data['test'].data))\n",
    "print(data['test'].__repr__())\n",
    "print('test_positive_only')\n",
    "print(np.unique(data['test_positive_only'].data))\n",
    "print(data['test_positive_only'].__repr__())\n",
    "\n",
    "item_features = data['item_features']\n",
    "tag_labels = data['item_feature_labels']\n",
    "print('There are %s distinct item features, with values like %s.' % (item_features.shape[1], tag_labels[:3].tolist()))"
   ]
  },
  {
   "cell_type": "code",
   "execution_count": 29,
   "metadata": {
    "collapsed": false
   },
   "outputs": [
    {
     "name": "stdout",
     "output_type": "stream",
     "text": [
      "CPU times: user 132 ms, sys: 1.82 ms, total: 134 ms\n",
      "Wall time: 133 ms\n"
     ]
    }
   ],
   "source": [
    "from lightfm import LightFM\n",
    "\n",
    "NUM_EPOCHS = 3\n",
    "cf_model = LightFM(\n",
    "    loss='warp',\n",
    "    item_alpha=1e-6,\n",
    "    no_components=10)\n",
    "\n",
    "%time model = cf_model.fit(train, epochs=NUM_EPOCHS)"
   ]
  },
  {
   "cell_type": "code",
   "execution_count": 30,
   "metadata": {
    "collapsed": false
   },
   "outputs": [
    {
     "name": "stdout",
     "output_type": "stream",
     "text": [
      "0.753395016575\n",
      "(90570, 5)\n",
      "0.733679104411\n",
      "(9430, 5)\n",
      "0.742460669635\n"
     ]
    },
    {
     "data": {
      "text/html": [
       "<div>\n",
       "<table border=\"1\" class=\"dataframe\">\n",
       "  <thead>\n",
       "    <tr style=\"text-align: right;\">\n",
       "      <th></th>\n",
       "      <th>item</th>\n",
       "      <th>predicted_rating</th>\n",
       "      <th>rating</th>\n",
       "      <th>user</th>\n",
       "      <th>log_loss</th>\n",
       "    </tr>\n",
       "  </thead>\n",
       "  <tbody>\n",
       "    <tr>\n",
       "      <th>0</th>\n",
       "      <td>19</td>\n",
       "      <td>0.154877</td>\n",
       "      <td>1</td>\n",
       "      <td>0</td>\n",
       "      <td>1.865122</td>\n",
       "    </tr>\n",
       "    <tr>\n",
       "      <th>1</th>\n",
       "      <td>32</td>\n",
       "      <td>0.209946</td>\n",
       "      <td>1</td>\n",
       "      <td>0</td>\n",
       "      <td>1.560903</td>\n",
       "    </tr>\n",
       "    <tr>\n",
       "      <th>2</th>\n",
       "      <td>60</td>\n",
       "      <td>0.218307</td>\n",
       "      <td>1</td>\n",
       "      <td>0</td>\n",
       "      <td>1.521852</td>\n",
       "    </tr>\n",
       "    <tr>\n",
       "      <th>3</th>\n",
       "      <td>116</td>\n",
       "      <td>0.695923</td>\n",
       "      <td>-1</td>\n",
       "      <td>0</td>\n",
       "      <td>1.190473</td>\n",
       "    </tr>\n",
       "    <tr>\n",
       "      <th>4</th>\n",
       "      <td>154</td>\n",
       "      <td>0.164430</td>\n",
       "      <td>-1</td>\n",
       "      <td>0</td>\n",
       "      <td>0.179642</td>\n",
       "    </tr>\n",
       "  </tbody>\n",
       "</table>\n",
       "</div>"
      ],
      "text/plain": [
       "   item  predicted_rating  rating  user  log_loss\n",
       "0    19          0.154877       1     0  1.865122\n",
       "1    32          0.209946       1     0  1.560903\n",
       "2    60          0.218307       1     0  1.521852\n",
       "3   116          0.695923      -1     0  1.190473\n",
       "4   154          0.164430      -1     0  0.179642"
      ]
     },
     "execution_count": 30,
     "metadata": {},
     "output_type": "execute_result"
    }
   ],
   "source": [
    "def sigmoid(x):                                        \n",
    "    return 1 / (1 + np.exp(-x))\n",
    "    \n",
    "def log_loss(df):\n",
    "    return -((df.rating == 1) * np.log(df.predicted_rating) + (df.rating == -1) * np.log(1 - df.predicted_rating))\n",
    "\n",
    "def predicted_df(mat, predicted_values):\n",
    "    return pd.DataFrame.from_dict({\n",
    "        'user': mat.row,\n",
    "        'item': mat.col,\n",
    "        'rating': mat.data,\n",
    "        'predicted_rating': predicted_values})\\\n",
    "    .sort_values('user')\\\n",
    "    .assign(log_loss=log_loss)\n",
    "\n",
    "def model_log_losses_df(model, test_mat, item_features=data['item_features']):\n",
    "    return predicted_df(\n",
    "        test_mat, \n",
    "        sigmoid(cf_model.predict(test_mat.row, test_mat.col, item_features=item_features)))\n",
    "\n",
    "predicted_train_df = predicted_df(train, sigmoid(cf_model.predict(train.row, train.col)))\n",
    "print(predicted_train_df.log_loss.mean())\n",
    "print(predicted_train_df.shape)\n",
    "\n",
    "predicted_test_df = predicted_df(test, sigmoid(cf_model.predict(test.row, test.col)))\n",
    "print(predicted_test_df.log_loss.mean())\n",
    "print(predicted_test_df.shape)\n",
    "print(model_log_losses_df(cf_model, test_positives).log_loss.mean())\n",
    "predicted_test_df.head()"
   ]
  },
  {
   "cell_type": "code",
   "execution_count": 35,
   "metadata": {
    "collapsed": false
   },
   "outputs": [
    {
     "name": "stdout",
     "output_type": "stream",
     "text": [
      "Collaborative filtering train/test MRR: 0.602 / 0.167\n",
      "Collaborative filtering train/test AUC: 0.649 / 0.639\n"
     ]
    }
   ],
   "source": [
    "from lightfm.evaluation import reciprocal_rank, auc_score\n",
    "\n",
    "cf_model = LightFM(loss='logistic', item_alpha=1e-6, no_components=30)\n",
    "cf_model.fit(train, epochs=NUM_EPOCHS)\n",
    "\n",
    "print('Collaborative filtering train/test MRR: %.3f / %.3f'\n",
    "      % (reciprocal_rank(cf_model, train).mean(),\n",
    "         reciprocal_rank(cf_model, test).mean()))\n",
    "\n",
    "print('Collaborative filtering train/test AUC: %.3f / %.3f'\n",
    "      % (auc_score(cf_model, train).mean(),\n",
    "         auc_score(cf_model, test, train_interactions=None).mean()))"
   ]
  },
  {
   "cell_type": "code",
   "execution_count": 8,
   "metadata": {
    "collapsed": false
   },
   "outputs": [
    {
     "name": "stdout",
     "output_type": "stream",
     "text": [
      "(9430, 3)\n",
      "0.266324\n"
     ]
    },
    {
     "data": {
      "text/html": [
       "<div>\n",
       "<table border=\"1\" class=\"dataframe\">\n",
       "  <thead>\n",
       "    <tr style=\"text-align: right;\">\n",
       "      <th></th>\n",
       "      <th>item</th>\n",
       "      <th>rank</th>\n",
       "      <th>user</th>\n",
       "    </tr>\n",
       "  </thead>\n",
       "  <tbody>\n",
       "    <tr>\n",
       "      <th>0</th>\n",
       "      <td>19</td>\n",
       "      <td>381.0</td>\n",
       "      <td>0</td>\n",
       "    </tr>\n",
       "    <tr>\n",
       "      <th>1</th>\n",
       "      <td>32</td>\n",
       "      <td>324.0</td>\n",
       "      <td>0</td>\n",
       "    </tr>\n",
       "    <tr>\n",
       "      <th>2</th>\n",
       "      <td>60</td>\n",
       "      <td>353.0</td>\n",
       "      <td>0</td>\n",
       "    </tr>\n",
       "    <tr>\n",
       "      <th>3</th>\n",
       "      <td>116</td>\n",
       "      <td>70.0</td>\n",
       "      <td>0</td>\n",
       "    </tr>\n",
       "    <tr>\n",
       "      <th>4</th>\n",
       "      <td>154</td>\n",
       "      <td>439.0</td>\n",
       "      <td>0</td>\n",
       "    </tr>\n",
       "  </tbody>\n",
       "</table>\n",
       "</div>"
      ],
      "text/plain": [
       "   item   rank  user\n",
       "0    19  381.0     0\n",
       "1    32  324.0     0\n",
       "2    60  353.0     0\n",
       "3   116   70.0     0\n",
       "4   154  439.0     0"
      ]
     },
     "execution_count": 8,
     "metadata": {},
     "output_type": "execute_result"
    }
   ],
   "source": [
    "def sparse_to_df(mat):\n",
    "    coo_mat = mat.tocoo()\n",
    "    return pd.DataFrame({\n",
    "        'user': coo_mat.row,\n",
    "        'item': coo_mat.col,\n",
    "        'rank': coo_mat.data}        \n",
    "    )\n",
    "\n",
    "def model_to_mrr(model, test_mat):\n",
    "    predict_kwargs = {}\n",
    "    if data['item_features'].shape[1] == model.item_embeddings.shape[0]:\n",
    "        predict_kwargs['item_features'] = data['item_features']\n",
    "    #if data['user_features'].shape[1] == model.user_embeddings.shape[0]:\n",
    "    #    predict_kwargs['user_features'] = data['user_features']\n",
    "        \n",
    "    return sparse_to_df(model.predict_rank(test_mat, **predict_kwargs))\\\n",
    "        .assign(rec_rank=lambda df:1 / (df['rank'] + 1))\\\n",
    "        .groupby('user')['rec_rank'].max()\\\n",
    "        .mean()\n",
    "\n",
    "test_ranks = cf_model.predict_rank(test)\n",
    "test_predicted_ranks_df = sparse_to_df(test_ranks)\n",
    "print(test_predicted_ranks_df.shape)\n",
    "print(model_to_mrr(cf_model, test))\n",
    "test_predicted_ranks_df.head()"
   ]
  },
  {
   "cell_type": "code",
   "execution_count": 9,
   "metadata": {
    "collapsed": false
   },
   "outputs": [
    {
     "data": {
      "text/plain": [
       "((943, 1129), (943, 1682), 9430)"
      ]
     },
     "execution_count": 9,
     "metadata": {},
     "output_type": "execute_result"
    }
   ],
   "source": [
    "(np.sum(test_ranks.sum(axis=1).A > 0), np.sum(test_ranks.sum(axis=0).A > 0)), test_ranks.shape, test_ranks.nnz"
   ]
  },
  {
   "cell_type": "code",
   "execution_count": 19,
   "metadata": {
    "collapsed": false
   },
   "outputs": [
    {
     "data": {
      "text/plain": [
       "<943x1682 sparse matrix of type '<class 'numpy.float32'>'\n",
       "\twith 9430 stored elements in Compressed Sparse Row format>"
      ]
     },
     "execution_count": 19,
     "metadata": {},
     "output_type": "execute_result"
    }
   ],
   "source": [
    "test_ranks"
   ]
  },
  {
   "cell_type": "markdown",
   "metadata": {},
   "source": [
    "## With item features"
   ]
  },
  {
   "cell_type": "code",
   "execution_count": 119,
   "metadata": {
    "collapsed": false
   },
   "outputs": [],
   "source": [
    "model = LightFM(loss='warp',\n",
    "                item_alpha=1e-6,\n",
    "                no_components=30)\n",
    "\n",
    "model = model.fit(\n",
    "    data['train'],\n",
    "    item_features=data['item_features'],\n",
    "    epochs=3)"
   ]
  },
  {
   "cell_type": "code",
   "execution_count": 120,
   "metadata": {
    "collapsed": false
   },
   "outputs": [
    {
     "name": "stdout",
     "output_type": "stream",
     "text": [
      "0.190722790341\n",
      "0.197180703211\n",
      "0.197180703211\n"
     ]
    }
   ],
   "source": [
    "print(model_log_losses_df(model, train).log_loss.mean())\n",
    "print(model_log_losses_df(model, test).log_loss.mean())\n",
    "print(model_log_losses_df(model, test_positives).log_loss.mean())"
   ]
  },
  {
   "cell_type": "code",
   "execution_count": 121,
   "metadata": {
    "collapsed": false
   },
   "outputs": [
    {
     "name": "stdout",
     "output_type": "stream",
     "text": [
      "Collaborative filtering train/test MRR: 0.026 / 0.012\n",
      "Collaborative filtering train/test AUC: 0.855 / 0.712\n"
     ]
    }
   ],
   "source": [
    "from lightfm.evaluation import reciprocal_rank, auc_score\n",
    "\n",
    "print('Collaborative filtering train/test MRR: %.3f / %.3f'\n",
    "      % (reciprocal_rank(model, train, item_features=data['item_features']).mean(),\n",
    "         reciprocal_rank(model, test, item_features=data['item_features']).mean()))\n",
    "\n",
    "print('Collaborative filtering train/test AUC: %.3f / %.3f'\n",
    "      % (auc_score(model, train, item_features=data['item_features']).mean(),\n",
    "         auc_score(model, test, item_features=data['item_features'], train_interactions=train).mean()))"
   ]
  }
 ],
 "metadata": {
  "anaconda-cloud": {},
  "kernelspec": {
   "display_name": "Python 3",
   "language": "python",
   "name": "python3"
  },
  "language_info": {
   "codemirror_mode": {
    "name": "ipython",
    "version": 3
   },
   "file_extension": ".py",
   "mimetype": "text/x-python",
   "name": "python",
   "nbconvert_exporter": "python",
   "pygments_lexer": "ipython3",
   "version": "3.6.0"
  }
 },
 "nbformat": 4,
 "nbformat_minor": 1
}
